{
 "cells": [
  {
   "cell_type": "code",
   "execution_count": 45,
   "metadata": {},
   "outputs": [],
   "source": [
    "# import math\n",
    "import pandas as pd\n",
    "import numpy as np\n",
    "from sklearn.model_selection import train_test_split\n",
    "from sklearn.svm import SVC\n",
    "from sklearn.feature_extraction.text import TfidfVectorizer\n",
    "from sklearn.metrics import accuracy_score, f1_score, precision_score, recall_score\n",
    "from sklearn.utils import shuffle\n",
    "import time\n",
    "import re\n",
    "import random\n",
    "import matplotlib.pyplot as plt\n",
    "pd.set_option('max_colwidth', 300)\n",
    "%run ssk.ipynb"
   ]
  },
  {
   "cell_type": "code",
   "execution_count": 46,
   "metadata": {},
   "outputs": [
    {
     "data": {
      "text/html": [
       "<div>\n",
       "<style scoped>\n",
       "    .dataframe tbody tr th:only-of-type {\n",
       "        vertical-align: middle;\n",
       "    }\n",
       "\n",
       "    .dataframe tbody tr th {\n",
       "        vertical-align: top;\n",
       "    }\n",
       "\n",
       "    .dataframe thead th {\n",
       "        text-align: right;\n",
       "    }\n",
       "</style>\n",
       "<table border=\"1\" class=\"dataframe\">\n",
       "  <thead>\n",
       "    <tr style=\"text-align: right;\">\n",
       "      <th></th>\n",
       "      <th>is_legit</th>\n",
       "      <th>text</th>\n",
       "    </tr>\n",
       "  </thead>\n",
       "  <tbody>\n",
       "    <tr>\n",
       "      <th>0</th>\n",
       "      <td>1</td>\n",
       "      <td>go until jurong point crazy available only in bugis n great world la e buffet cine there got amore wat</td>\n",
       "    </tr>\n",
       "    <tr>\n",
       "      <th>1</th>\n",
       "      <td>1</td>\n",
       "      <td>ok lar joking wif u oni</td>\n",
       "    </tr>\n",
       "    <tr>\n",
       "      <th>2</th>\n",
       "      <td>-1</td>\n",
       "      <td>free entry in a wkly comp to win fa cup final tkts st may text fa to to receive entry question std txt rate t c s apply over s</td>\n",
       "    </tr>\n",
       "    <tr>\n",
       "      <th>3</th>\n",
       "      <td>1</td>\n",
       "      <td>u dun say so early hor u c already then say</td>\n",
       "    </tr>\n",
       "    <tr>\n",
       "      <th>4</th>\n",
       "      <td>1</td>\n",
       "      <td>nah i don t think he goes to usf he lives around here though</td>\n",
       "    </tr>\n",
       "  </tbody>\n",
       "</table>\n",
       "</div>"
      ],
      "text/plain": [
       "   is_legit  \\\n",
       "0         1   \n",
       "1         1   \n",
       "2        -1   \n",
       "3         1   \n",
       "4         1   \n",
       "\n",
       "                                                                                                                             text  \n",
       "0                          go until jurong point crazy available only in bugis n great world la e buffet cine there got amore wat  \n",
       "1                                                                                                         ok lar joking wif u oni  \n",
       "2  free entry in a wkly comp to win fa cup final tkts st may text fa to to receive entry question std txt rate t c s apply over s  \n",
       "3                                                                                     u dun say so early hor u c already then say  \n",
       "4                                                                    nah i don t think he goes to usf he lives around here though  "
      ]
     },
     "execution_count": 46,
     "metadata": {},
     "output_type": "execute_result"
    }
   ],
   "source": [
    "spam = pd.read_csv('spam.csv', encoding = 'latin-1')\n",
    "spam_data = pd.DataFrame(spam['v1'])\n",
    "spam_data['text'] = spam.iloc[:, [1,2,3,4]].apply(lambda x: ' '.join(x.dropna()), axis=1)\n",
    "spam_data = spam_data.rename(columns = {'v1': 'is_legit'})\n",
    "spam_data['text'] = spam_data['text'].map(lambda x: re.sub(r'[^a-z]+', ' ', x.lower()).strip())\n",
    "spam_data['is_legit'] = spam_data['is_legit'].replace('ham', 1)\n",
    "spam_data['is_legit'] = spam_data['is_legit'].replace('spam', -1)\n",
    "\n",
    "spam_data.head()"
   ]
  },
  {
   "cell_type": "code",
   "execution_count": 48,
   "metadata": {},
   "outputs": [],
   "source": [
    "rand_list = [random.randint(1,2000) for i in range(5)]\n",
    "# rand_list = [1384, 60, 1913, 797, 802]\n",
    "\n",
    "sd = shuffle(spam_data, random_state = 1384)[:200]\n",
    "sms = np.array(sd.iloc[:,1])\n",
    "label = np.array(sd.iloc[:,0])"
   ]
  },
  {
   "cell_type": "code",
   "execution_count": 49,
   "metadata": {},
   "outputs": [],
   "source": [
    "def draw_aligment(n, decay, l, r, step):\n",
    "    s = time.time()\n",
    "    top = top_nsub(sms, n)\n",
    "    num = np.arange(l,r,step)\n",
    "    ker = GramMatrix(n, decay, sms)\n",
    "    alig = []\n",
    "    for i in num:\n",
    "        top_i = top[:i]\n",
    "        ker_aprox = Gram_aprox(n, decay, top_i, sms)\n",
    "        alig.append(aligment(ker, ker_aprox))\n",
    "    e = time.time()\n",
    "    print('Time:', (e-s)/60, 'minutes')\n",
    "\n",
    "    plt.figure()\n",
    "    plt.plot(num, alig)\n",
    "    plt.xlabel('Liczba najczęściej występujących podciągów długości {}'.format(n))\n",
    "    plt.ylabel('Podobieństwo między jądrami')\n",
    "    plt.title('Podobieństwo jądra do jego aproksymacji w zależności od liczby podciągów')\n",
    "    plt.show()"
   ]
  },
  {
   "cell_type": "code",
   "execution_count": null,
   "metadata": {},
   "outputs": [],
   "source": [
    "draw_aligment(2, 0.5, 10, 420, 20)\n",
    "draw_aligment(3, 0.5, 100, 500, 20)\n",
    "draw_aligment(4, 0.5, 100, 550, 30)\n",
    "draw_aligment(5, 0.5, 300, 600, 50)"
   ]
  },
  {
   "cell_type": "code",
   "execution_count": 55,
   "metadata": {},
   "outputs": [],
   "source": [
    "sms = np.array(spam_data.iloc[:,1])\n",
    "label = np.array(spam_data.iloc[:,0])\n",
    "\n",
    "# długość podsekwencji łańchucha\n",
    "\n",
    "for n in [2,3,4,5]:\n",
    "    acc = []\n",
    "    rec = []\n",
    "    pre = []\n",
    "    f1 = []\n",
    "    for rs in rand_list:\n",
    "        print('Random state:', rs)\n",
    "        X_train, X_test, y_train, y_test = train_test_split(sms, label, test_size = 0.1, random_state = rs, stratify = label)\n",
    "        top = top_nsub(X_train, n)[:500]\n",
    "        sms_aprox_gram = Gram_aprox(n, 0.5, top, X_train)\n",
    "        svc = SVC(kernel = 'precomputed', C = 10, gamma = 0.01)\n",
    "        svc.fit(sms_aprox_gram, y_train)\n",
    "        print('Training is done!')\n",
    "        sms_test_gram = Gram_aprox(n, 0.5, top, X_test, X_train)\n",
    "        y_pred = svc.predict(sms_test_gram)\n",
    "        acc.append(accuracy_score(y_test, y_pred))\n",
    "        rec.append(recall_score(y_test, y_pred))\n",
    "        pre.append(precision_score(y_test, y_pred))\n",
    "        f1.append(f1_score(y_test, y_pred))\n",
    "#         print('Accuracy score for test set: ', accuracy_score(y_test, y_pred), 'F1 score: ', f1_score(y_test, y_pred),\n",
    "#               'Precision: ', precision_score(y_test, y_pred), 'Recall: ', recall_score(y_test, y_pred))\n",
    "\n",
    "print('Accuracy score for test set: ', np.mean(acc), 'F1 score: ', np.mean(f1), 'precision:', np.mean(pre), np.mean(rec))\n",
    "print('Accuracy score for test set: ', np.std(acc), 'F1 score: ', np.std(f1), 'precision:', np.std(pre), np.std(rec))"
   ]
  },
  {
   "cell_type": "code",
   "execution_count": 53,
   "metadata": {},
   "outputs": [
    {
     "name": "stdout",
     "output_type": "stream",
     "text": [
      "Accuracy score for test set:  0.9756272401433691 F1 score:  0.9861076424750281 precision: 0.9741936547203425 recall:  0.998343685300207\n",
      "Accuracy score for test set:  0.007041893442433164 F1 score:  0.003960888460207722 precision: 0.0072739406195639535 recall:  0.0015493405328256436\n"
     ]
    }
   ],
   "source": [
    "# tf-idf\n",
    "\n",
    "acc = []\n",
    "f1 = []\n",
    "pre = []\n",
    "rec = []\n",
    "\n",
    "for rs in rand_list:\n",
    "    tf=TfidfVectorizer()\n",
    "    X_train, X_test, y_train, y_test = train_test_split(sms, label, test_size=0.1, random_state=rs, stratify = label)\n",
    "\n",
    "    X_train= tf.fit_transform(X_train)\n",
    "    X_test = tf.transform(X_test)\n",
    "\n",
    "    svc = SVC(C=10, gamma=0.01)\n",
    "    svc.fit(X_train, y_train)\n",
    "    y_pred = svc.predict(X_test)\n",
    "    acc.append(accuracy_score(y_test, y_pred))\n",
    "    f1.append(f1_score(y_test, y_pred))\n",
    "    pre.append(precision_score(y_test, y_pred))\n",
    "    rec.append(recall_score(y_test, y_pred))\n",
    "    \n",
    "print('Accuracy score for test set: ', np.mean(acc), 'F1 score: ', np.mean(f1), 'precision:', np.mean(pre),\n",
    "      'recall: ', np.mean(rec))\n",
    "print('Accuracy score for test set: ', np.std(acc), 'F1 score: ', np.std(f1), 'precision:', np.std(pre),\n",
    "      'recall: ', np.std(rec))"
   ]
  },
  {
   "cell_type": "code",
   "execution_count": 56,
   "metadata": {},
   "outputs": [],
   "source": [
    "# wartość lambda\n",
    "for decay in [0.01, 0.03, 0.05, 0.07, 0.1, 0.3, 0.5, 0.7, 0.9]:\n",
    "    acc = []\n",
    "    rec = []\n",
    "    pre = []\n",
    "    f1 = []\n",
    "    for rs in rand_list:\n",
    "        print('Random state:', rs)\n",
    "        X_train, X_test, y_train, y_test = train_test_split(sms, label, test_size = 0.1, random_state = rs, stratify = label)\n",
    "        top = top_nsub(X_train, 2)[:500]\n",
    "        sms_aprox_gram = Gram_aprox(2, decay, top, X_train)\n",
    "        svc = SVC(kernel = 'precomputed', C = 10, gamma = 0.01)\n",
    "        svc.fit(sms_aprox_gram, y_train)\n",
    "        print('Training is done!')\n",
    "        sms_test_gram = Gram_aprox(2, decay, top, X_test, X_train)\n",
    "        y_pred = svc.predict(sms_test_gram)\n",
    "        acc.append(accuracy_score(y_test, y_pred))\n",
    "        rec.append(recall_score(y_test, y_pred))\n",
    "        pre.append(precision_score(y_test, y_pred))\n",
    "        f1.append(f1_score(y_test, y_pred))\n",
    "#         print('Accuracy score for test set: ', accuracy_score(y_test, y_pred), 'F1 score: ', f1_score(y_test, y_pred),\n",
    "#               'Precision: ', precision_score(y_test, y_pred), 'Recall: ', recall_score(y_test, y_pred))\n",
    "\n",
    "print('Accuracy score for test set: ', np.mean(acc), 'F1 score: ', np.mean(f1), 'precision:', np.mean(pre), np.mean(rec))\n",
    "print('Accuracy score for test set: ', np.std(acc), 'F1 score: ', np.std(f1), 'precision:', np.std(pre), np.std(rec))"
   ]
  }
 ],
 "metadata": {
  "kernelspec": {
   "display_name": "Python 3",
   "language": "python",
   "name": "python3"
  },
  "language_info": {
   "codemirror_mode": {
    "name": "ipython",
    "version": 3
   },
   "file_extension": ".py",
   "mimetype": "text/x-python",
   "name": "python",
   "nbconvert_exporter": "python",
   "pygments_lexer": "ipython3",
   "version": "3.7.3"
  }
 },
 "nbformat": 4,
 "nbformat_minor": 2
}
